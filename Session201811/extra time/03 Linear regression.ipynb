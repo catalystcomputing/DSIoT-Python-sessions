{
 "cells": [
  {
   "cell_type": "markdown",
   "metadata": {},
   "source": [
    "# Linear regression through Least Square Method\n",
    "\n",
    "Here we will use numpy and matplotlib we can show the best fit regression on a simple data set.\n",
    "\n",
    "[https://docs.scipy.org/doc/numpy/reference/generated/numpy.polyfit.html](https://docs.scipy.org/doc/numpy/reference/generated/numpy.polyfit.html \"Least squares polynomial fit\")"
   ]
  },
  {
   "cell_type": "code",
   "execution_count": null,
   "metadata": {
    "collapsed": false
   },
   "outputs": [],
   "source": [
    "%matplotlib inline\n",
    "import numpy as np\n",
    "import matplotlib.pyplot as plt\n",
    "\n",
    "# Alligator data snout length and weight\n",
    "alligatorLength = np.array([3.87, 3.61, 4.33, 3.43, 3.81, 3.83, 3.46, 3.76, 3.50, 3.58, 4.19, 3.78, 3.71, 3.73, 3.78])\n",
    "alligatorWeight = np.array([4.87, 3.93, 6.46, 3.33, 4.38, 4.70, 3.50, 4.50, 3.58, 3.64, 5.90, 4.43, 4.38, 4.42, 4.25])"
   ]
  },
  {
   "cell_type": "code",
   "execution_count": null,
   "metadata": {
    "collapsed": false
   },
   "outputs": [],
   "source": [
    "# Find the slope and intercept of the best fit line\n",
    "slope, intercept = np.polyfit(alligatorLength, alligatorWeight, 1) # polyfit can also do Polynomial regress\n",
    "print 'slope: %f intercept: %f'% (slope, intercept)"
   ]
  },
  {
   "cell_type": "code",
   "execution_count": null,
   "metadata": {
    "collapsed": false
   },
   "outputs": [],
   "source": [
    "# Create abline_values array to be able to plot the best fit line\n",
    "abline_values = [slope * i + intercept for i in alligatorLength]\n",
    "\n",
    "# Scatter Plot\n",
    "plt.scatter(alligatorLength, alligatorWeight, c='g') # c='g' for green\n",
    "plt.plot(alligatorLength, abline_values, c='b') # c='b' for blue\n",
    "plt.xlabel('Alligator Snout Length')\n",
    "plt.ylabel('Alligator Weight')\n",
    "plt.title('Alligator')\n",
    "plt.show()"
   ]
  },
  {
   "cell_type": "code",
   "execution_count": null,
   "metadata": {
    "collapsed": false
   },
   "outputs": [],
   "source": [
    "# Using the slope and intercept we can get the likely weight of an Alligator\n",
    "print 'Alligator Snout Length: %f Calculated weight: %f'% (4.0, slope * 4.0 + intercept)\n",
    "print 'Alligator Snout Length: %f Calculated weight: %f'% (4.2, slope * 4.2 + intercept)"
   ]
  }
 ],
 "metadata": {
  "anaconda-cloud": {},
  "kernelspec": {
   "display_name": "Python [default]",
   "language": "python",
   "name": "python2"
  },
  "language_info": {
   "codemirror_mode": {
    "name": "ipython",
    "version": 2
   },
   "file_extension": ".py",
   "mimetype": "text/x-python",
   "name": "python",
   "nbconvert_exporter": "python",
   "pygments_lexer": "ipython2",
   "version": "2.7.12"
  }
 },
 "nbformat": 4,
 "nbformat_minor": 1
}

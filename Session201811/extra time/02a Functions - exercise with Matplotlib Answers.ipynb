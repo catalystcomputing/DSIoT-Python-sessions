{
 "cells": [
  {
   "cell_type": "code",
   "execution_count": null,
   "metadata": {
    "collapsed": true
   },
   "outputs": [],
   "source": [
    "%matplotlib inline\n",
    "import matplotlib.pyplot as plt\n",
    "import numpy as np"
   ]
  },
  {
   "cell_type": "code",
   "execution_count": null,
   "metadata": {
    "collapsed": true
   },
   "outputs": [],
   "source": [
    "def plot_answers(title_text, important, current, filename):\n",
    "    N = 6\n",
    "    ind = np.arange(N)  # the x locations for the groups\n",
    "    width = 0.35       # the width of the bars\n",
    "\n",
    "    fig, ax = plt.subplots()\n",
    "    rects1 = ax.bar(ind, important, width, color='r')\n",
    "    rects2 = ax.bar(ind + width, current, width, color='y')\n",
    "    ax.set_ylabel('Reponses')\n",
    "    title = ax.set_title(title_text)\n",
    "    ax.set_xticks(ind + width / 2)\n",
    "    ax.set_xticklabels(('0', '2', '4', '6', '8', '10'))\n",
    "    ax.legend((rects1[0], rects2[0]), ('Important', 'Current'), loc='upper left')\n",
    "    #plt.show() # Show \n",
    "    fig.savefig(filename + '.png') # Save to disk"
   ]
  },
  {
   "cell_type": "code",
   "execution_count": null,
   "metadata": {
    "collapsed": false,
    "scrolled": false
   },
   "outputs": [],
   "source": [
    "title = 'Happiness'\n",
    "important = [0,0,4,3,10,21]\n",
    "current =[1,1,16,10,8,2]\n",
    "filename = 'Q1'\n",
    "plot_answers(title, important, current, filename)\n",
    "\n",
    "title = 'Health'\n",
    "important = [3,0,4,7,16,8]\n",
    "current =[0,4,16,11,5,2]\n",
    "filename = 'Q2'\n",
    "plot_answers(title, important, current, filename)\n",
    "\n",
    "title = 'Love'\n",
    "important = [0,1,3,9,15,10]\n",
    "current =[0,3,17,11,7,0]\n",
    "filename = 'Q3'\n",
    "plot_answers(title, important, current, filename)\n",
    "\n",
    "title = 'Career'\n",
    "important = [0,2,4,5,16,11]\n",
    "current =[0,9,12,11,6,0]\n",
    "filename = 'Q4'\n",
    "plot_answers(title, important, current, filename)\n",
    "\n",
    "title = 'Family'\n",
    "important = [0,1,2,7,13,15]\n",
    "current =[0,9,10,10,7,2]\n",
    "filename = 'Q5'\n",
    "plot_answers(title, important, current, filename)"
   ]
  },
  {
   "cell_type": "code",
   "execution_count": null,
   "metadata": {
    "collapsed": true
   },
   "outputs": [],
   "source": []
  }
 ],
 "metadata": {
  "anaconda-cloud": {},
  "kernelspec": {
   "display_name": "Python [default]",
   "language": "python",
   "name": "python2"
  },
  "language_info": {
   "codemirror_mode": {
    "name": "ipython",
    "version": 2
   },
   "file_extension": ".py",
   "mimetype": "text/x-python",
   "name": "python",
   "nbconvert_exporter": "python",
   "pygments_lexer": "ipython2",
   "version": "2.7.12"
  }
 },
 "nbformat": 4,
 "nbformat_minor": 1
}

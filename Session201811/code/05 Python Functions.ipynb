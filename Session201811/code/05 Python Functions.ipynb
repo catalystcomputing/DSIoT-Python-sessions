{
 "cells": [
  {
   "cell_type": "markdown",
   "metadata": {},
   "source": [
    "# Functions"
   ]
  },
  {
   "cell_type": "code",
   "execution_count": null,
   "metadata": {
    "collapsed": false
   },
   "outputs": [],
   "source": [
    "# Built in functions\n",
    "x = range(120, 161, 20)\n",
    "x"
   ]
  },
  {
   "cell_type": "code",
   "execution_count": null,
   "metadata": {
    "collapsed": false
   },
   "outputs": [],
   "source": [
    "# User defined functions\n",
    "def speed_function(value):\n",
    "    if value > 150:\n",
    "        my_result = 'That speed is very Fast !'\n",
    "    elif value > 120:\n",
    "        my_result = 'That speed is too Fast !'\n",
    "    else:\n",
    "        my_result = 'You are driving at Safe speed'\n",
    "    return my_result\n",
    "\n",
    "for i in range(120, 161, 20):\n",
    "    result = speed_function(i)\n",
    "    print 'Input %d Answer %s' % (i, result)"
   ]
  }
 ],
 "metadata": {
  "anaconda-cloud": {},
  "kernelspec": {
   "display_name": "Python [default]",
   "language": "python",
   "name": "python2"
  },
  "language_info": {
   "codemirror_mode": {
    "name": "ipython",
    "version": 2
   },
   "file_extension": ".py",
   "mimetype": "text/x-python",
   "name": "python",
   "nbconvert_exporter": "python",
   "pygments_lexer": "ipython2",
   "version": "2.7.12"
  }
 },
 "nbformat": 4,
 "nbformat_minor": 1
}

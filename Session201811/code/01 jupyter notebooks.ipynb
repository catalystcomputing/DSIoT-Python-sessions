{
 "cells": [
  {
   "cell_type": "markdown",
   "metadata": {},
   "source": [
    "# jupyter notebooks\n",
    "\n",
    "The jupyter notebook (previously iPython) is an interactive computational environment, in which you can combine code execution, rich text, mathematics, plots and rich media.\n",
    "\n",
    "Unlike running a Python script on the command line the code and results are stored together."
   ]
  },
  {
   "cell_type": "code",
   "execution_count": 1,
   "metadata": {
    "collapsed": false
   },
   "outputs": [
    {
     "name": "stdout",
     "output_type": "stream",
     "text": [
      "Hello world\n"
     ]
    }
   ],
   "source": [
    "print (\"Hello world\")"
   ]
  },
  {
   "cell_type": "code",
   "execution_count": 2,
   "metadata": {
    "collapsed": false,
    "scrolled": true
   },
   "outputs": [
    {
     "ename": "SyntaxError",
     "evalue": "Missing parentheses in call to 'print' (<ipython-input-2-bc9376192379>, line 2)",
     "output_type": "error",
     "traceback": [
      "\u001b[0;36m  File \u001b[0;32m\"<ipython-input-2-bc9376192379>\"\u001b[0;36m, line \u001b[0;32m2\u001b[0m\n\u001b[0;31m    print x\u001b[0m\n\u001b[0m          ^\u001b[0m\n\u001b[0;31mSyntaxError\u001b[0m\u001b[0;31m:\u001b[0m Missing parentheses in call to 'print'\n"
     ]
    }
   ],
   "source": [
    "x = 1 + 1\n",
    "print x\n",
    "x"
   ]
  },
  {
   "cell_type": "markdown",
   "metadata": {},
   "source": [
    "Variables created in one cell can be used in another"
   ]
  },
  {
   "cell_type": "code",
   "execution_count": null,
   "metadata": {
    "collapsed": false
   },
   "outputs": [],
   "source": [
    "y = x + 1\n",
    "print y"
   ]
  },
  {
   "cell_type": "markdown",
   "metadata": {},
   "source": [
    "Cells must be run in order for this to work"
   ]
  },
  {
   "cell_type": "code",
   "execution_count": null,
   "metadata": {
    "collapsed": true
   },
   "outputs": [],
   "source": [
    "a = 1"
   ]
  },
  {
   "cell_type": "code",
   "execution_count": null,
   "metadata": {
    "collapsed": false
   },
   "outputs": [],
   "source": [
    "b = a + 1\n",
    "b"
   ]
  },
  {
   "cell_type": "markdown",
   "metadata": {
    "collapsed": true
   },
   "source": [
    "# Document notebooks\n",
    "\n",
    "Each cell can be code, markdown [https://en.wikipedia.org/wiki/Markdown](https://en.wikipedia.org/wiki/Markdown \"Markdown\")\n",
    "\n",
    "*Markdown* can be used to add documentation to a notebook.\n",
    "\n",
    "To change the cell type to markdown `Ctrl-m m` or click into the cell and select `Markdown` using the dropdown that defaults to `code`"
   ]
  },
  {
   "cell_type": "markdown",
   "metadata": {},
   "source": [
    "## Latex formulas\n",
    "\n",
    "Using MathJax formulas can be added in markdown cells (this does not render 100% in Chrome)\n",
    "\n",
    "$y = x$\n",
    "\n",
    "$c = \\sqrt{a^2 + b^2}$\n",
    "\n",
    "$$3\\left(\\frac{2}{5}\\right)$$"
   ]
  },
  {
   "cell_type": "markdown",
   "metadata": {},
   "source": [
    "\\begin{eqnarray*}\n",
    "5x^2-9&=&x+3\\\\\n",
    "4x^2&=&12\\\\\n",
    "x^3&=&3\\\\\n",
    "x&\\approx&\\pm1.732\n",
    "\\end{eqnarray*}"
   ]
  }
 ],
 "metadata": {
  "anaconda-cloud": {},
  "kernelspec": {
   "display_name": "Python [default]",
   "language": "python",
   "name": "python3"
  },
  "language_info": {
   "codemirror_mode": {
    "name": "ipython",
    "version": 3
   },
   "file_extension": ".py",
   "mimetype": "text/x-python",
   "name": "python",
   "nbconvert_exporter": "python",
   "pygments_lexer": "ipython3",
   "version": "3.5.2"
  }
 },
 "nbformat": 4,
 "nbformat_minor": 0
}

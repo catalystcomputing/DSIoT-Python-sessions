{
 "cells": [
  {
   "cell_type": "markdown",
   "metadata": {},
   "source": [
    "# Air quality time series\n",
    "\n",
    "\n",
    "## Let us first describe the data\n",
    "\n",
    "This dataset is made of the daily readings of the following air quality values for May 1, 1973 (a Tuesday) to September 30, 1973.\n",
    "\n",
    "- Ozone: Mean ozone in parts per billion from 1300 to 1500 hours at Roosevelt Island\n",
    "- Solar.R: Solar radiation in Langleys in the frequency band 4000–7700 Angstroms from 0800 to 1200 hours at Central Park\n",
    "- Wind: Average wind speed in miles per hour at 0700 and 1000 hours at LaGuardia Airport\n",
    "- Temp: Maximum daily temperature in degrees Fahrenheit at La Guardia Airport.\n",
    "\n",
    "** Source: **\n",
    "\n",
    "The data was obtained from the New York State Department of Conservation (ozone data) and the National Weather Service (meteorological data)."
   ]
  },
  {
   "cell_type": "code",
   "execution_count": null,
   "metadata": {
    "collapsed": false
   },
   "outputs": [],
   "source": [
    "import pandas as pd\n",
    "df_temp = pd.read_csv('../data/airquality.csv', \n",
    "                      usecols = [\"Ozone\", \"Solar.R\", \"Wind\", \"Temp\", \"Month\", \"Day\"])\n",
    "\n",
    "# We exclude the first column (= index) because we don't need it.\n",
    "# To do that, just specify the columns of interest in usecols\n",
    "\n",
    "#Let's add a year column\n",
    "df_temp[\"Year\"] = \"1973\"\n",
    "\n",
    "# Let's inspect the first few elements\n",
    "df_temp.head()"
   ]
  },
  {
   "cell_type": "code",
   "execution_count": null,
   "metadata": {
    "collapsed": true
   },
   "outputs": [],
   "source": [
    "# It would be useful to create a date column (better plotting)\n",
    "df_temp[\"Date\"] = pd.to_datetime(df_temp[\"Year\"] \n",
    "                                 + df_temp[\"Month\"].astype(str) \n",
    "                                 + df_temp[\"Day\"].astype(str) , format = \"%Y%m%d\")"
   ]
  },
  {
   "cell_type": "code",
   "execution_count": null,
   "metadata": {
    "collapsed": false
   },
   "outputs": [],
   "source": [
    "# Let's inspect the first few elements again\n",
    "df_temp.head()"
   ]
  },
  {
   "cell_type": "code",
   "execution_count": null,
   "metadata": {
    "collapsed": false
   },
   "outputs": [],
   "source": [
    "# Check each column's data type\n",
    "print df_temp.dtypes"
   ]
  },
  {
   "cell_type": "markdown",
   "metadata": {},
   "source": [
    "# Interpolation\n",
    "\n",
    "As you can see from the printed values, there are a few NaN in our array.\n",
    "It probably means that the data was not recorded at this date.\n",
    "\n",
    "We have several ways of dealing with that :\n",
    "\n",
    "- We can ignore the relevant data line\n",
    "- Or we can infer the missing data with, say, an average of a few previous points.\n",
    "\n",
    "We are going to infer the missing data through interpolation.  \n",
    "Say we have 1,NaN,2.   \n",
    "We infer the missing value with $(1+2)/2 = 1.5$"
   ]
  },
  {
   "cell_type": "code",
   "execution_count": null,
   "metadata": {
    "collapsed": false
   },
   "outputs": [],
   "source": [
    "# Let's see how to do that with pandas\n",
    "\n",
    "# Get the data to interpolate\n",
    "ozone = df_temp[\"Ozone\"].values\n",
    "solar = df_temp[\"Solar.R\"].values\n",
    "# Get a series of timestamps\n",
    "timestamps = pd.to_datetime(df_temp[\"Date\"].values)\n",
    "\n",
    "# Create a new Series with the timestamp as index \n",
    "#(or we could have set the index as timestamp in our df_temp dataframe)\n",
    "s_ozone = pd.Series(ozone, index=timestamps)\n",
    "s_solar = pd.Series(solar, index=timestamps)\n",
    "\n",
    "oz_interp = s_ozone.interpolate(method = \"time\")\n",
    "sol_interp = s_solar.interpolate(method = \"time\")\n",
    "\n",
    "df_temp[\"Ozone_interp\"] = oz_interp.values\n",
    "df_temp[\"Solar.R_interp\"] = sol_interp.values\n",
    "\n",
    "df_temp.head(n=10) # use 10 rows to see how interpolation works"
   ]
  },
  {
   "cell_type": "code",
   "execution_count": null,
   "metadata": {
    "collapsed": false
   },
   "outputs": [],
   "source": [
    "#Let's plot the data\n",
    "import matplotlib.pylab as plt\n",
    "from matplotlib.gridspec import GridSpec\n",
    "\n",
    "%matplotlib inline\n",
    "fig = plt.figure(figsize=(15, 15))\n",
    "gs = GridSpec(2, 2, bottom=0.18, left=0.18, right=0.88)\n",
    "\n",
    "axOz = fig.add_subplot(gs[0])\n",
    "axSol = fig.add_subplot(gs[1])\n",
    "axWind = fig.add_subplot(gs[2])\n",
    "axTemp = fig.add_subplot(gs[3])\n",
    "\n",
    "# Get time axis\n",
    "x_date = df_temp[\"Date\"].values\n",
    "\n",
    "# Get the y values \n",
    "y_oz = df_temp[\"Ozone_interp\"].values\n",
    "y_sol = df_temp[\"Solar.R_interp\"].values\n",
    "y_temp = df_temp[\"Temp\"].values\n",
    "y_wind = df_temp[\"Wind\"].values\n",
    "\n",
    "\n",
    "# Plot\n",
    "axOz.plot(x_date, y_oz, label = \"Ozone in ppm\", linewidth=1.5)\n",
    "axSol.plot(x_date, y_sol, label = \"Solar Radiation\", linewidth=1.5)\n",
    "axWind.plot(x_date, y_temp, label = \"Temperature in F\", linewidth=1.5)\n",
    "axTemp.plot(x_date, y_wind, label = \"Wind\", linewidth=1.5)\n",
    "\n",
    "\n",
    "#####################\n",
    "# Figure cosmetics\n",
    "#####################\n",
    "\n",
    "# Axis labels, legend and formatting\n",
    "for ax in [axOz, axSol, axWind, axTemp]:\n",
    "    ax.set_xlabel(\"time\", fontsize=22)\n",
    "    ax.legend(loc=\"best\", fontsize=22)\n",
    "    \n",
    "# improve plot layout\n",
    "gs.tight_layout(fig, h_pad=3)\n",
    "\n",
    "#plt.savefig(\"visual.png\") #uncomment to save plot\n",
    "plt.show() "
   ]
  },
  {
   "cell_type": "markdown",
   "metadata": {},
   "source": [
    "# Correlations\n",
    "\n",
    "We will now look at an interesting way to see interactions between time-series data : running correlations.  \n",
    "\n",
    "Below is the for the formula of the sample correlation coefficient $r$.\n",
    "\n",
    "![corr.png](../figures/corr.png)\n",
    "\n",
    "The running correlation has an extra twist to it. We select a window of points (let's say 30) on which we compute the correlation coefficient. And then we slide this window in time.\n",
    "\n",
    "So the first value of $r$ is given by points $1, 2, 3, ... 30$.  \n",
    "The second value of $r$ is given by points $2, 3, 4, ... 31$.\n",
    "And so on\n",
    "\n",
    "This is where the phrase \"running\" comes from. This running correlation gives us information of how the correlation of two time series evolves with time."
   ]
  },
  {
   "cell_type": "code",
   "execution_count": null,
   "metadata": {
    "collapsed": false
   },
   "outputs": [],
   "source": [
    "# Clear plotting\n",
    "plt.clf()\n",
    "plt.close()\n",
    "\n",
    "#Let's plot the data\n",
    "fig = plt.figure(figsize=(15, 15))\n",
    "gs = GridSpec(2, 1, bottom=0.18, left=0.18, right=0.88)\n",
    "\n",
    "ax7 = fig.add_subplot(gs[0])\n",
    "ax30 = fig.add_subplot(gs[1])\n",
    "\n",
    "# Get time axis\n",
    "x_date = df_temp[\"Date\"].values\n",
    "\n",
    "# Get the y values \n",
    "\n",
    "r_sol7 = df_temp[\"Ozone_interp\"].rolling(window=7).corr(df_temp[\"Solar.R_interp\"])\n",
    "r_sol30 = df_temp[\"Ozone_interp\"].rolling(window=30).corr(df_temp[\"Solar.R_interp\"])\n",
    "\n",
    "r_wind7 = df_temp[\"Ozone_interp\"].rolling(window=7).corr(df_temp[\"Wind\"])\n",
    "r_wind30 = df_temp[\"Ozone_interp\"].rolling(window=30).corr(df_temp[\"Wind\"])\n",
    "\n",
    "# On the first few points, no correlation can be computed (because there are not enough previous points)\n",
    "# This gives a NaN value\n",
    "# We arbitrarily set this to 0.\n",
    "r_sol7 = r_sol7.fillna(0)\n",
    "r_sol30 = r_sol30.fillna(0)\n",
    "r_wind7 = r_wind7.fillna(0)\n",
    "r_wind30 = r_wind30.fillna(0)\n",
    "\n",
    "# Plot\n",
    "ax7.plot(x_date, r_sol7, label = \"7d corr Ozone/Solar\", linewidth=1.5, color = \"r\")\n",
    "ax7.plot(x_date, r_wind7, label = \"7d corr Ozone/Wind\", linewidth=1.5, color = \"k\")\n",
    "ax30.plot(x_date, r_sol30, label = \"30d corr Ozone/Solar\", linewidth=1.5, color = \"r\")\n",
    "ax30.plot(x_date, r_wind30, label = \"30d corr Ozone/Wind\", linewidth=1.5, color = \"k\")\n",
    "\n",
    "#####################\n",
    "# Figure cosmetics\n",
    "#####################\n",
    "\n",
    "# Axis labels, legend and formatting\n",
    "for ax in [ax7, ax30]:\n",
    "    ax.set_xlabel(\"time\", fontsize=22)\n",
    "    ax.set_ylabel(\"Correlation coefficient\", fontsize=22)\n",
    "    ax.legend(loc=\"best\", fontsize=22)\n",
    "\n",
    "# improve plot layout\n",
    "gs.tight_layout(fig, h_pad=5)\n",
    "\n",
    "#plt.savefig(\"visual2.png\")\n",
    "plt.show() #uncomment to plot"
   ]
  },
  {
   "cell_type": "markdown",
   "metadata": {},
   "source": [
    "# What does this show?\n",
    "\n",
    "- On a 7 days window, the correlation coefficient changes wildly. \n",
    "- There is a single period (july / august) where we see a trend (Solar radiation is correlated to Ozone, Wind is anti-correlated to Ozone)\n",
    "- On a 30 days window, we see much stronger trends. Wind is strongly anti-correlated to Ozone and the anticorrelation increases up to September. Solar radiation is mildly correlated to Ozone"
   ]
  }
 ],
 "metadata": {
  "anaconda-cloud": {},
  "kernelspec": {
   "display_name": "Python [default]",
   "language": "python",
   "name": "python2"
  },
  "language_info": {
   "codemirror_mode": {
    "name": "ipython",
    "version": 2
   },
   "file_extension": ".py",
   "mimetype": "text/x-python",
   "name": "python",
   "nbconvert_exporter": "python",
   "pygments_lexer": "ipython2",
   "version": "2.7.12"
  }
 },
 "nbformat": 4,
 "nbformat_minor": 1
}

{
 "cells": [
  {
   "cell_type": "markdown",
   "metadata": {},
   "source": [
    "# Data Structures"
   ]
  },
  {
   "cell_type": "code",
   "execution_count": null,
   "metadata": {},
   "outputs": [],
   "source": [
    "# Tuples an immutable list\n",
    "p = (4,'hello', (1,2,3))\n",
    "print (p)"
   ]
  },
  {
   "cell_type": "code",
   "execution_count": null,
   "metadata": {},
   "outputs": [],
   "source": [
    "# List a mutable list\n",
    "myList = [4,'hello',6]\n",
    "print ('0th value = {}'.format(myList[0]))\n",
    "myList.append(7)\n",
    "print ('List Length = {}'.format(len(myList)))\n",
    "for value in myList:\n",
    "    print (value)"
   ]
  },
  {
   "cell_type": "code",
   "execution_count": null,
   "metadata": {},
   "outputs": [],
   "source": [
    "# Dictionary an unordered set of key value pairs\n",
    "myDict = {'p':4,'q':5,'r':(6,5,6), 1: {1: 3, 3: 5}}\n",
    "print ('P value = {}'.format(myDict['p']))\n",
    "myDict['p'] = 10\n",
    "print ('P value = {}'.format(myDict['p']))\n",
    "print ('Top level dictionary item count = {}'.format(len(myDict)))\n",
    "print ('Nested dictionary item count = {}'.format(len(myDict[1])))\n",
    "print ('Keys = {}'.format(myDict.keys()))\n",
    "print ('Values = {}'.format(myDict.values()))\n",
    "for key in myDict.keys():\n",
    "    print (myDict[key])"
   ]
  }
 ],
 "metadata": {
  "kernelspec": {
   "display_name": "Python 3",
   "language": "python",
   "name": "python3"
  },
  "language_info": {
   "codemirror_mode": {
    "name": "ipython",
    "version": 3
   },
   "file_extension": ".py",
   "mimetype": "text/x-python",
   "name": "python",
   "nbconvert_exporter": "python",
   "pygments_lexer": "ipython3",
   "version": "3.8.3"
  }
 },
 "nbformat": 4,
 "nbformat_minor": 1
}

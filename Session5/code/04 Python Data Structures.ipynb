{
 "cells": [
  {
   "cell_type": "markdown",
   "metadata": {},
   "source": [
    "# Data Structures"
   ]
  },
  {
   "cell_type": "code",
   "execution_count": null,
   "metadata": {
    "collapsed": false
   },
   "outputs": [],
   "source": [
    "# Tuples an immutable list\n",
    "p = (4,'hello', (1,2,3))\n",
    "print p"
   ]
  },
  {
   "cell_type": "code",
   "execution_count": null,
   "metadata": {
    "collapsed": false
   },
   "outputs": [],
   "source": [
    "# List a mutable list\n",
    "myList = [4,'hello',6]\n",
    "print '0th value = %d'%myList[0]\n",
    "myList.append(7)\n",
    "print 'List Length = %d'%len(myList)\n",
    "for value in myList:\n",
    "    print value"
   ]
  },
  {
   "cell_type": "code",
   "execution_count": null,
   "metadata": {
    "collapsed": false
   },
   "outputs": [],
   "source": [
    "# Dictionary an unordered set of key value pairs\n",
    "myDict = {'p':4,'q':5,'r':(6,5,6), 1: {1: 3, 3: 5}}\n",
    "print 'P value = %d'%myDict['p']\n",
    "myDict['p'] = 10\n",
    "print 'P value = %d'%myDict['p']\n",
    "print 'Top level dictionary item count = %s'%len(myDict)\n",
    "print 'Nested dictionary item count = %s'%len(myDict[1])\n",
    "print 'Keys = %s'%myDict.keys()\n",
    "print 'Values = %s'%myDict.values()\n",
    "for key in myDict.keys():\n",
    "    print myDict[key]"
   ]
  },
  {
   "cell_type": "code",
   "execution_count": null,
   "metadata": {
    "collapsed": true
   },
   "outputs": [],
   "source": []
  }
 ],
 "metadata": {
  "kernelspec": {
   "display_name": "Python [default]",
   "language": "python",
   "name": "python2"
  },
  "language_info": {
   "codemirror_mode": {
    "name": "ipython",
    "version": 2
   },
   "file_extension": ".py",
   "mimetype": "text/x-python",
   "name": "python",
   "nbconvert_exporter": "python",
   "pygments_lexer": "ipython2",
   "version": "2.7.12"
  }
 },
 "nbformat": 4,
 "nbformat_minor": 1
}

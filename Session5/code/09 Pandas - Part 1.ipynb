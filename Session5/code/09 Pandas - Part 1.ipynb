{
 "cells": [
  {
   "cell_type": "markdown",
   "metadata": {},
   "source": [
    "# pandas\n",
    "\n",
    "pandas is an open source, BSD-licensed library providing high-performance, easy-to-use data structures and data analysis tools for the Python programming language\n",
    "\n",
    "[http://pandas.pydata.org/](http://pandas.pydata.org/ \"Python Data Analysis Library\")"
   ]
  },
  {
   "cell_type": "code",
   "execution_count": null,
   "metadata": {},
   "outputs": [],
   "source": [
    "# Series\n",
    "import numpy as np\n",
    "import pandas as pd\n",
    "myArray = np.array([2,3,4])\n",
    "row_names = ['p','q','r']\n",
    "mySeries = pd.Series(myArray,index=row_names)\n",
    "print (mySeries)\n",
    "print (mySeries[0])\n",
    "print (mySeries['p'])"
   ]
  },
  {
   "cell_type": "code",
   "execution_count": null,
   "metadata": {},
   "outputs": [],
   "source": [
    "# Dataframes\n",
    "myArray = np.array([[2,3,4],[5,6,7]])\n",
    "row_names = ['p','q']\n",
    "col_names = ['One','Two','Three']\n",
    "myDataFrame = pd.DataFrame(myArray,index = row_names,columns = col_names)\n",
    "print (myDataFrame)\n",
    "print ('Method 1 :')\n",
    "print ('One column = \\n{}'.format(myDataFrame['One']))\n",
    "print ('Method 2 :')\n",
    "print ('One column = \\n{}'.format(myDataFrame.One))"
   ]
  },
  {
   "cell_type": "markdown",
   "metadata": {},
   "source": [
    "# Working with Data"
   ]
  },
  {
   "cell_type": "code",
   "execution_count": null,
   "metadata": {},
   "outputs": [],
   "source": [
    "# Let's load data from a csv\n",
    "df = pd.read_csv(\"../data/diabetes.csv\")\n",
    "df.info()"
   ]
  },
  {
   "cell_type": "code",
   "execution_count": null,
   "metadata": {},
   "outputs": [],
   "source": [
    "# Examine data\n",
    "df.head()"
   ]
  },
  {
   "cell_type": "markdown",
   "metadata": {},
   "source": [
    "# Normalizing data\n",
    "\n",
    "If we look at two of the features in the data we can see they are of different scales."
   ]
  },
  {
   "cell_type": "code",
   "execution_count": null,
   "metadata": {},
   "outputs": [],
   "source": [
    "%matplotlib inline\n",
    "import matplotlib.pyplot as plt\n",
    "# Histogram\n",
    "bins=range(0,100,10)\n",
    "\n",
    "plt.hist(df[\"Age\"].values, bins, alpha=0.5, label='age')\n",
    "plt.show()\n",
    "\n",
    "plt.hist(df[\"BMI\"].values, bins, alpha=0.5, label='BMI')\n",
    "plt.show()\n",
    "\n",
    "plt.hist(df[\"Age\"].values, bins, alpha=0.5, label='age')\n",
    "plt.hist(df[\"BMI\"].values, bins, alpha=0.5, label='BMI')\n",
    "plt.show()"
   ]
  },
  {
   "cell_type": "markdown",
   "metadata": {},
   "source": [
    "We can use standard deviation to normalize data.\n",
    "\n",
    "Here we generate a random set of data that creates a dataset that follows a Standard deviation from the mean.\n",
    "\n",
    "[https://en.wikipedia.org/wiki/Standard_deviation](https://en.wikipedia.org/wiki/Standard_deviation \"Standard deviation\")"
   ]
  },
  {
   "cell_type": "code",
   "execution_count": null,
   "metadata": {},
   "outputs": [],
   "source": [
    "from numpy.random import normal\n",
    "gaussian_numbers = normal(size=5000)\n",
    "plt.hist(gaussian_numbers, bins=np.linspace(-5.0, 5.0, num=20)) # Set bin bounds\n",
    "plt.show()"
   ]
  },
  {
   "cell_type": "markdown",
   "metadata": {},
   "source": [
    "We are now going to normalize the data so we give both data items the same weight.\n",
    "\n",
    "- for each column, we compute the mean and remove the standard deviation\n",
    "- Let's say we have points x1, x2,.. xn in column \"AGE\"\n",
    "- mean = $(1/n) * (x1+x2+...xn)$\n",
    "- std = $\\sqrt{(1/n) * ( (x1-mean)^2 + (x2 -mean)^2 + ...)}$"
   ]
  },
  {
   "cell_type": "code",
   "execution_count": null,
   "metadata": {},
   "outputs": [],
   "source": [
    "# Let's start with an example on the AGE feature\n",
    "# I create a new array for easier manipulation\n",
    "arr_age = df[\"Age\"].values\n",
    "arr_age[:10]"
   ]
  },
  {
   "cell_type": "markdown",
   "metadata": {},
   "source": [
    "with numpy array we can do simple vectorized operations\n",
    "so if i do\n",
    "```\n",
    "    arr = arr - c\n",
    "```\n",
    "it subtracts c to all elements in arr if i do\n",
    "```\n",
    "    arr = arr/c \n",
    "```\n",
    "it divides all elements in `arr` by `c`"
   ]
  },
  {
   "cell_type": "code",
   "execution_count": null,
   "metadata": {},
   "outputs": [],
   "source": [
    "mean_age = np.mean(arr_age)\n",
    "std_age = np.std(arr_age)\n",
    "print ('Age Mean: {} Std:{}'.format(mean_age, std_age))"
   ]
  },
  {
   "cell_type": "code",
   "execution_count": null,
   "metadata": {},
   "outputs": [],
   "source": [
    "# So to compute the standardized array, I write :\n",
    "arr_age_new = (arr_age - mean_age)/std_age\n",
    "arr_age_new[:10]"
   ]
  },
  {
   "cell_type": "code",
   "execution_count": null,
   "metadata": {},
   "outputs": [],
   "source": [
    "# I can now apply the same idea to a pandas dataframe\n",
    "# using some built in pandas functions :\n",
    "df_new = (df - df.mean()) / df.std()\n",
    "df_new.head()"
   ]
  },
  {
   "cell_type": "code",
   "execution_count": null,
   "metadata": {},
   "outputs": [],
   "source": [
    "df.head()"
   ]
  },
  {
   "cell_type": "code",
   "execution_count": null,
   "metadata": {},
   "outputs": [],
   "source": [
    "# Histogram\n",
    "bins=np.linspace(-5.0, 5.0, num=20)\n",
    "\n",
    "plt.hist(df_new[\"Age\"].values, bins, alpha=0.5, label='age')\n",
    "plt.hist(df_new[\"BMI\"].values, bins, alpha=0.5, label='BMI')\n",
    "plt.show()"
   ]
  },
  {
   "cell_type": "code",
   "execution_count": null,
   "metadata": {
    "collapsed": true
   },
   "outputs": [],
   "source": []
  }
 ],
 "metadata": {
  "anaconda-cloud": {},
  "kernelspec": {
   "display_name": "Python 3",
   "language": "python",
   "name": "python3"
  },
  "language_info": {
   "codemirror_mode": {
    "name": "ipython",
    "version": 3
   },
   "file_extension": ".py",
   "mimetype": "text/x-python",
   "name": "python",
   "nbconvert_exporter": "python",
   "pygments_lexer": "ipython3",
   "version": "3.6.3"
  }
 },
 "nbformat": 4,
 "nbformat_minor": 1
}

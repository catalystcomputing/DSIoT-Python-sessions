{
 "cells": [
  {
   "cell_type": "markdown",
   "metadata": {},
   "source": [
    "# NumPy\n",
    "\n",
    "NumPy is the fundamental package for scientific computing with Python. It contains among other things:\n",
    "\n",
    "- a powerful N-dimensional array object\n",
    "- sophisticated (broadcasting) functions\n",
    "- tools for integrating C/C++ and Fortran code\n",
    "- useful linear algebra, Fourier transform, and random number capabilities\n",
    "\n",
    "[http://www.numpy.org/](http://www.numpy.org/ \"NumPy\")"
   ]
  },
  {
   "cell_type": "code",
   "execution_count": null,
   "metadata": {},
   "outputs": [],
   "source": [
    "# Create array\n",
    "import numpy as np\n",
    "myList = [4,5,6]\n",
    "myArray = np.array(myList)\n",
    "print (myArray)\n",
    "print (myArray.shape)"
   ]
  },
  {
   "cell_type": "code",
   "execution_count": null,
   "metadata": {},
   "outputs": [],
   "source": [
    "# Access Data\n",
    "myList = [[4,5,6],[6,7,8]]\n",
    "myArray = np.array(myList)\n",
    "print (myArray)\n",
    "print (myArray.shape)\n",
    "print ('First row = {}'.format(myArray[0]))\n",
    "print ('Last row = {}'.format(myArray[-1]))\n",
    "print ('Specific row and column = {}'.format(myArray[0,1]))\n",
    "print ('whole column = {}'.format(myArray[:,1]))"
   ]
  },
  {
   "cell_type": "code",
   "execution_count": null,
   "metadata": {},
   "outputs": [],
   "source": [
    "# Arithmetic\n",
    "myArray1 = np.array([1,1,1])\n",
    "myArray2 = np.array([2,1,3])\n",
    "print ('Addition = {}'.format(myArray1 + myArray2))\n",
    "print ('Multiplication = {}'.format(myArray1 * myArray2))"
   ]
  },
  {
   "cell_type": "markdown",
   "metadata": {},
   "source": [
    "# Array manipulation routines\n",
    "\n",
    "[https://docs.scipy.org/doc/numpy/reference/routines.array-manipulation.html](https://docs.scipy.org/doc/numpy/reference/routines.array-manipulation.html \"Array manipulation routines\")"
   ]
  },
  {
   "cell_type": "code",
   "execution_count": null,
   "metadata": {},
   "outputs": [],
   "source": [
    "# hstack Stack arrays in sequence horizontally (column wise)\n",
    "alligatorLength = np.array([[3.87], [3.61], [4.33], [3.43], [3.81], [3.83], [3.46], [3.76], [3.50], [3.58], [4.19], [3.78], [3.71], [3.73], [3.78]])\n",
    "alligatorWeight = np.array([[4.87], [3.93], [6.46], [3.33], [4.38], [4.70], [3.50], [4.50], [3.58], [3.64], [5.90], [4.43], [4.38], [4.42], [4.25]])\n",
    "alligatorArray = np.hstack((alligatorLength, alligatorWeight))\n",
    "alligatorArray"
   ]
  },
  {
   "cell_type": "code",
   "execution_count": null,
   "metadata": {},
   "outputs": [],
   "source": [
    "# vstack Stack arrays in sequence vertically (row wise)\n",
    "alligatorLength = np.array([3.87, 3.61, 4.33, 3.43, 3.81, 3.83, 3.46, 3.76, 3.50, 3.58, 4.19, 3.78, 3.71, 3.73, 3.78])\n",
    "alligatorWeight = np.array([4.87, 3.93, 6.46, 3.33, 4.38, 4.70, 3.50, 4.50, 3.58, 3.64, 5.90, 4.43, 4.38, 4.42, 4.25])\n",
    "alligatorArray = np.vstack((alligatorLength, alligatorWeight))\n",
    "alligatorArray"
   ]
  },
  {
   "cell_type": "code",
   "execution_count": null,
   "metadata": {},
   "outputs": [],
   "source": []
  }
 ],
 "metadata": {
  "anaconda-cloud": {},
  "kernelspec": {
   "display_name": "Python 3",
   "language": "python",
   "name": "python3"
  },
  "language_info": {
   "codemirror_mode": {
    "name": "ipython",
    "version": 3
   },
   "file_extension": ".py",
   "mimetype": "text/x-python",
   "name": "python",
   "nbconvert_exporter": "python",
   "pygments_lexer": "ipython3",
   "version": "3.8.3"
  }
 },
 "nbformat": 4,
 "nbformat_minor": 1
}

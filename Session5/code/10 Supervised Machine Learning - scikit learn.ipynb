{
 "cells": [
  {
   "cell_type": "markdown",
   "metadata": {},
   "source": [
    "# Supervised Machine Learning - scikit learn\n",
    "\n",
    "The example uses the Iris Dataset. (The Iris dataset section is adatped from an example from Analyics Vidhya)\n",
    "\n",
    "[https://en.wikipedia.org/wiki/Iris_flower_data_set](https://en.wikipedia.org/wiki/Iris_flower_data_set \"Iris flower data set\")"
   ]
  },
  {
   "cell_type": "code",
   "execution_count": null,
   "metadata": {},
   "outputs": [],
   "source": [
    "import numpy as np\n",
    "import matplotlib as mp\n",
    "from sklearn import datasets\n",
    "from sklearn import metrics\n",
    "from sklearn.linear_model import LogisticRegression"
   ]
  },
  {
   "cell_type": "code",
   "execution_count": null,
   "metadata": {},
   "outputs": [],
   "source": [
    "# Load the sample data set from the datasets module\n",
    "dataset = datasets.load_iris()"
   ]
  },
  {
   "cell_type": "code",
   "execution_count": null,
   "metadata": {},
   "outputs": [],
   "source": [
    "# Display the data in the test dataset\n",
    "dataset"
   ]
  },
  {
   "cell_type": "code",
   "execution_count": null,
   "metadata": {},
   "outputs": [],
   "source": [
    "# Species of Iris in the dataset\n",
    "dataset['target_names']"
   ]
  },
  {
   "cell_type": "markdown",
   "metadata": {},
   "source": [
    "# Iris Setosa\n",
    "![Kosaciec_szczecinkowaty_Iris_setosa.jpg](../figures/Kosaciec_szczecinkowaty_Iris_setosa.jpg)\n",
    "# Iris Versicolor\n",
    "![220px-Iris_versicolor_3.jpg](../figures/220px-Iris_versicolor_3.jpg)\n",
    "# Iris Virginica\n",
    "![220px-Iris_virginica.jpg](../figures/220px-Iris_virginica.jpg)"
   ]
  },
  {
   "cell_type": "code",
   "execution_count": null,
   "metadata": {},
   "outputs": [],
   "source": [
    "# Names of the type of information recorded about an Iris - called features\n",
    "dataset['feature_names']"
   ]
  },
  {
   "cell_type": "code",
   "execution_count": null,
   "metadata": {},
   "outputs": [],
   "source": [
    "# First 10 sets of Iris data\n",
    "dataset['data'][:10]"
   ]
  },
  {
   "cell_type": "code",
   "execution_count": null,
   "metadata": {},
   "outputs": [],
   "source": [
    "# The classification of each of the first 10 sets of Iris data - the target\n",
    "dataset['target'][:10]"
   ]
  },
  {
   "cell_type": "markdown",
   "metadata": {},
   "source": [
    "Here 0 equates to setosa the first entry in the 'target_names' array"
   ]
  },
  {
   "cell_type": "code",
   "execution_count": null,
   "metadata": {},
   "outputs": [],
   "source": [
    "# Now we create our model\n",
    "model = LogisticRegression()\n",
    "# We train it by passing in the test data and the actual results\n",
    "model.fit(dataset.data, dataset.target)"
   ]
  },
  {
   "cell_type": "code",
   "execution_count": null,
   "metadata": {},
   "outputs": [],
   "source": [
    "# We use the model to create predictions\n",
    "expected = dataset.target\n",
    "predicted = model.predict(dataset.data)\n",
    "# Using the metrics module we see the results of the model\n",
    "metrics.accuracy_score(expected, predicted, normalize=True, sample_weight=None)"
   ]
  },
  {
   "cell_type": "markdown",
   "metadata": {},
   "source": [
    "## Digging deeper using metrics\n",
    "### Accuracy score, Classification report & Confusion matix\n",
    "\n",
    "Here we will use a simple example to show metrics you can use: accuracy, classification reports and confusion matrices.\n",
    "\n",
    "- y_true is the test data\n",
    "- y_pred is the prediction"
   ]
  },
  {
   "cell_type": "code",
   "execution_count": null,
   "metadata": {},
   "outputs": [],
   "source": [
    "y_true = [\"cat\", \"ant\", \"cat\", \"cat\", \"ant\", \"bird\", \"bird\"]\n",
    "y_pred = [\"ant\", \"ant\", \"cat\", \"cat\", \"ant\", \"cat\", \"bird\"]"
   ]
  },
  {
   "cell_type": "code",
   "execution_count": null,
   "metadata": {},
   "outputs": [],
   "source": [
    "metrics.accuracy_score(y_true, y_pred, normalize=True, sample_weight=None)"
   ]
  },
  {
   "cell_type": "markdown",
   "metadata": {},
   "source": [
    "5 correct predictions out of 7 values. 71% accuracy"
   ]
  },
  {
   "cell_type": "code",
   "execution_count": null,
   "metadata": {},
   "outputs": [],
   "source": [
    "print(metrics.classification_report(y_true, y_pred,\n",
    "    target_names=[\"ant\", \"bird\", \"cat\"]))"
   ]
  },
  {
   "cell_type": "markdown",
   "metadata": {},
   "source": [
    "Here we can see that the predictions:\n",
    "- precision = $2/3 = 0.67$ (2 ants in test data and matched but found an extra 1 in prediction).\n",
    "- recall = $2/2 = 1$ (2 ants in test data and these matched in prediction).\n",
    "- f1-score = $(0.67 + 1) / 2 = 0.8$ mean of precision and recall.\n",
    "- support shows that there are 2 ants, 2 birds and 3 cats in the test data.\n",
    "\n",
    "[http://scikit-learn.org/stable/modules/generated/sklearn.metrics.precision_recall_fscore_support.html](http://scikit-learn.org/stable/modules/generated/sklearn.metrics.precision_recall_fscore_support.html)"
   ]
  },
  {
   "cell_type": "code",
   "execution_count": null,
   "metadata": {},
   "outputs": [],
   "source": [
    "metrics.confusion_matrix(y_true, y_pred)"
   ]
  },
  {
   "cell_type": "markdown",
   "metadata": {},
   "source": [
    "In the confusion_matrix the labels give the order of the rows.\n",
    "\n",
    "- ant was correctly categorised twice and was never miss categorised\n",
    "- bird was correctly categorised once and was categorised as cat once\n",
    "- cat was correctly categorised twice and was categorised as an ant once"
   ]
  },
  {
   "cell_type": "markdown",
   "metadata": {},
   "source": [
    "## Back to Iris predictions"
   ]
  },
  {
   "cell_type": "code",
   "execution_count": null,
   "metadata": {},
   "outputs": [],
   "source": [
    "print(metrics.classification_report(expected, predicted,target_names=dataset['target_names']))"
   ]
  },
  {
   "cell_type": "code",
   "execution_count": null,
   "metadata": {},
   "outputs": [],
   "source": [
    "print (metrics.confusion_matrix(expected, predicted))"
   ]
  },
  {
   "cell_type": "markdown",
   "metadata": {},
   "source": [
    "In the confusion_matrix the labels give the order of the rows.\n",
    "\n",
    "- setosa was correctly and was never miss categorised\n",
    "- versicolor was correctly categorised 47 times and was categorised as virginica 3 times\n",
    "- virginica was correctly categorised 49 times and was categorised as versicolor once"
   ]
  }
 ],
 "metadata": {
  "kernelspec": {
   "display_name": "Python 3",
   "language": "python",
   "name": "python3"
  },
  "language_info": {
   "codemirror_mode": {
    "name": "ipython",
    "version": 3
   },
   "file_extension": ".py",
   "mimetype": "text/x-python",
   "name": "python",
   "nbconvert_exporter": "python",
   "pygments_lexer": "ipython3",
   "version": "3.8.3"
  }
 },
 "nbformat": 4,
 "nbformat_minor": 1
}

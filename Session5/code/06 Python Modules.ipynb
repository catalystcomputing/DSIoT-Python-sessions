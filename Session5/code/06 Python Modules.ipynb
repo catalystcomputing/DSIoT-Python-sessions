{
 "cells": [
  {
   "cell_type": "markdown",
   "metadata": {},
   "source": [
    "# Modules\n",
    "\n",
    "Python comes with a library of standard modules.\n",
    "\n",
    "[https://docs.python.org/3/library/](https://docs.python.org/3/library/ \"The Python Standard Library\")"
   ]
  },
  {
   "cell_type": "code",
   "execution_count": null,
   "metadata": {},
   "outputs": [],
   "source": [
    "# Import all methods\n",
    "import json \n",
    "data_file = open('../data/workfile.json')\n",
    "data = json.load(data_file)\n",
    "\n",
    "print(data)"
   ]
  },
  {
   "cell_type": "code",
   "execution_count": null,
   "metadata": {},
   "outputs": [],
   "source": [
    "# Import a specific method\n",
    "from os import path\n",
    "print (path.basename('../data/workfile.json'))"
   ]
  },
  {
   "cell_type": "code",
   "execution_count": null,
   "metadata": {},
   "outputs": [],
   "source": [
    "# Alias modules\n",
    "import numpy\n",
    "print (numpy.__version__)\n",
    "import numpy as np # Alias module\n",
    "print (np.__version__)"
   ]
  },
  {
   "cell_type": "markdown",
   "metadata": {},
   "source": [
    "# Anaconda packages\n",
    "\n",
    "Anaconda has many hundreds of supported packages.\n",
    "\n",
    "There are slightly more packages for Python 2.7 than 3.6 and again more supported packages on Linux and MacOS than Windows. If the target platform is different to the development platform it is wise to check support for libraries being used.\n",
    "\n",
    "[https://docs.continuum.io/anaconda/pkg-docs](https://docs.continuum.io/anaconda/pkg-docs \"Anaconda Package List\")"
   ]
  }
 ],
 "metadata": {
  "anaconda-cloud": {},
  "kernelspec": {
   "display_name": "Python 3",
   "language": "python",
   "name": "python3"
  },
  "language_info": {
   "codemirror_mode": {
    "name": "ipython",
    "version": 3
   },
   "file_extension": ".py",
   "mimetype": "text/x-python",
   "name": "python",
   "nbconvert_exporter": "python",
   "pygments_lexer": "ipython3",
   "version": "3.6.3"
  }
 },
 "nbformat": 4,
 "nbformat_minor": 1
}
